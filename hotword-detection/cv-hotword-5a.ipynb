{
 "cells": [
  {
   "cell_type": "markdown",
   "id": "e4c11c77",
   "metadata": {},
   "source": [
    "# Task 5a"
   ]
  },
  {
   "cell_type": "code",
   "execution_count": null,
   "id": "c359459c",
   "metadata": {},
   "outputs": [
    {
     "name": "stdout",
     "output_type": "stream",
     "text": [
      "Detected 15 files with hotwords.\n",
      "0      cv-valid-dev/sample-000000.mp3\n",
      "3      cv-valid-dev/sample-000003.mp3\n",
      "89     cv-valid-dev/sample-000089.mp3\n",
      "508    cv-valid-dev/sample-000508.mp3\n",
      "674    cv-valid-dev/sample-000674.mp3\n",
      "Name: filename, dtype: object\n"
     ]
    }
   ],
   "source": [
    "# Imports\n",
    "import pandas as pd  \n",
    "\n",
    "# Load transcribed CSV\n",
    "csv_path = \"../asr-train/cv-valid-test_task4_final.csv\"\n",
    "\n",
    "df = pd.read_csv(csv_path)\n",
    "\n",
    "# Convert transcript to lowercase\n",
    "df['generated_text'] = df['generated_text'].str.lower()\n",
    "\n",
    "# Define hotwords\n",
    "hotwords = [\"be careful\", \"destroy\", \"stranger\"]\n",
    "\n",
    "# Function to check for hotwords\n",
    "def contains_hotword(text):\n",
    "    if pd.isna(text):\n",
    "        return False\n",
    "    return any(hotword in text for hotword in hotwords)\n",
    "\n",
    "# Apply the function to each row\n",
    "df['hotword_detected'] = df['generated_text'].apply(contains_hotword)\n",
    "\n",
    "# Extract filenames with hotwords\n",
    "detected_files = df[df['hotword_detected']]['filename']\n",
    "\n",
    "# Save to detected.txt\n",
    "detected_path = \"detected.txt\"\n",
    "detected_files.to_csv(detected_path, index=False, header=False)\n",
    "\n",
    "# Optional: Preview\n",
    "print(f\"Detected {len(detected_files)} files with hotwords.\")\n",
    "print(detected_files.head())\n"
   ]
  }
 ],
 "metadata": {
  "kernelspec": {
   "display_name": "venv2",
   "language": "python",
   "name": "python3"
  },
  "language_info": {
   "codemirror_mode": {
    "name": "ipython",
    "version": 3
   },
   "file_extension": ".py",
   "mimetype": "text/x-python",
   "name": "python",
   "nbconvert_exporter": "python",
   "pygments_lexer": "ipython3",
   "version": "3.13.2"
  }
 },
 "nbformat": 4,
 "nbformat_minor": 5
}
